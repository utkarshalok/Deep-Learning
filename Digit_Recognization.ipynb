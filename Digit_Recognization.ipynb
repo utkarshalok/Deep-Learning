{
  "nbformat": 4,
  "nbformat_minor": 0,
  "metadata": {
    "colab": {
      "name": "Digit Recognization",
      "version": "0.3.2",
      "provenance": [],
      "collapsed_sections": [],
      "include_colab_link": true
    },
    "kernelspec": {
      "name": "python3",
      "display_name": "Python 3"
    }
  },
  "cells": [
    {
      "cell_type": "markdown",
      "metadata": {
        "id": "view-in-github",
        "colab_type": "text"
      },
      "source": [
        "<a href=\"https://colab.research.google.com/github/utkarshalok/Deep-Learning/blob/master/Digit_Recognization.ipynb\" target=\"_parent\"><img src=\"https://colab.research.google.com/assets/colab-badge.svg\" alt=\"Open In Colab\"/></a>"
      ]
    },
    {
      "metadata": {
        "id": "dDCCyAMPBEi2",
        "colab_type": "code",
        "colab": {}
      },
      "cell_type": "code",
      "source": [
        "# Run this cell and select the kaggle.json file downloaded\n",
        "# from the Kaggle account settings page.\n",
        "from google.colab import files\n",
        "files.upload()"
      ],
      "execution_count": 0,
      "outputs": []
    },
    {
      "metadata": {
        "id": "-dMhFoswBIij",
        "colab_type": "code",
        "colab": {}
      },
      "cell_type": "code",
      "source": [
        "# Next, install the Kaggle API client.\n",
        "!pip install -U -q kaggle\n",
        "!mkdir -p ~/.kaggle"
      ],
      "execution_count": 0,
      "outputs": []
    },
    {
      "metadata": {
        "id": "LbDLuGpwC2NM",
        "colab_type": "code",
        "colab": {}
      },
      "cell_type": "code",
      "source": [
        "\n",
        "!cp kaggle.json ~/.kaggle/\n",
        "\n",
        "# This permissions change avoids a warning on Kaggle tool startup.\n"
      ],
      "execution_count": 0,
      "outputs": []
    },
    {
      "metadata": {
        "id": "BTQjoHqqC70p",
        "colab_type": "code",
        "colab": {}
      },
      "cell_type": "code",
      "source": [
        "# List available datasets.\n",
        "!kaggle datasets list"
      ],
      "execution_count": 0,
      "outputs": []
    },
    {
      "metadata": {
        "id": "UgnkSfhNDMMK",
        "colab_type": "code",
        "outputId": "72559f4b-62e7-4ad0-fedd-391a810c7158",
        "colab": {
          "base_uri": "https://localhost:8080/",
          "height": 207
        }
      },
      "cell_type": "code",
      "source": [
        "!kaggle competitions download -c digit-recognizer"
      ],
      "execution_count": 0,
      "outputs": [
        {
          "output_type": "stream",
          "text": [
            "Warning: Your Kaggle API key is readable by other users on this system! To fix this, you can run 'chmod 600 /root/.kaggle/kaggle.json'\n",
            "Downloading train.csv to /content\n",
            " 93% 68.0M/73.2M [00:00<00:00, 57.6MB/s]\n",
            "100% 73.2M/73.2M [00:00<00:00, 88.4MB/s]\n",
            "Downloading test.csv to /content\n",
            " 66% 32.0M/48.8M [00:00<00:00, 65.4MB/s]\n",
            "100% 48.8M/48.8M [00:00<00:00, 123MB/s] \n",
            "Downloading sample_submission.csv to /content\n",
            "  0% 0.00/235k [00:00<?, ?B/s]\n",
            "100% 235k/235k [00:00<00:00, 74.3MB/s]\n"
          ],
          "name": "stdout"
        }
      ]
    },
    {
      "metadata": {
        "id": "_6R3gn1zDbor",
        "colab_type": "code",
        "outputId": "472d6a24-fabd-4f0a-d8f3-307eb4c53c7f",
        "colab": {
          "base_uri": "https://localhost:8080/",
          "height": 34
        }
      },
      "cell_type": "code",
      "source": [
        "import pandas as pd\n",
        "import numpy as np\n",
        "import matplotlib.pyplot as plt\n",
        "import matplotlib.image as mpimg\n",
        "import seaborn as sns\n",
        "from sklearn.model_selection import train_test_split\n",
        "from sklearn.metrics import confusion_matrix\n",
        "import itertools\n",
        "from keras.utils.np_utils import to_categorical\n",
        "from keras.models import Sequential\n",
        "from keras.layers import Flatten, Dense ,Dropout,Conv2D,MaxPool2D\n",
        "from keras.optimizers import RMSprop\n",
        "from keras.preprocessing.image import ImageDataGenerator\n",
        "from keras.callbacks import ReduceLROnPlateau\n"
      ],
      "execution_count": 0,
      "outputs": [
        {
          "output_type": "stream",
          "text": [
            "Using TensorFlow backend.\n"
          ],
          "name": "stderr"
        }
      ]
    },
    {
      "metadata": {
        "id": "8FXL2BZrHnFP",
        "colab_type": "code",
        "colab": {}
      },
      "cell_type": "code",
      "source": [
        "train=pd.read_csv('train.csv')\n",
        "test=pd.read_csv('test.csv')"
      ],
      "execution_count": 0,
      "outputs": []
    },
    {
      "metadata": {
        "id": "AC3L6kpiHqNG",
        "colab_type": "code",
        "colab": {}
      },
      "cell_type": "code",
      "source": [
        "Y_train=train['label']\n",
        "X_train=train.drop(labels=['label'],axis=1)\n",
        "Y_train.value_counts()\n",
        "X_train = X_train / 255.0\n",
        "test = test / 255.0"
      ],
      "execution_count": 0,
      "outputs": []
    },
    {
      "metadata": {
        "id": "SAguTMuHHs0D",
        "colab_type": "code",
        "colab": {}
      },
      "cell_type": "code",
      "source": [
        "X_train = X_train.values.reshape(-1,28,28,1)\n",
        "test = test.values.reshape(-1,28,28,1)\n",
        "Y_train = to_categorical(Y_train, num_classes = 10)"
      ],
      "execution_count": 0,
      "outputs": []
    },
    {
      "metadata": {
        "id": "rkOcp2yaHyCb",
        "colab_type": "code",
        "colab": {}
      },
      "cell_type": "code",
      "source": [
        "X_train,X_val,Y_train,Y_val= train_test_split(X_train,Y_train,test_size=0.1,random_state=2)"
      ],
      "execution_count": 0,
      "outputs": []
    },
    {
      "metadata": {
        "id": "byT_veYRHzt6",
        "colab_type": "code",
        "outputId": "a9fe9bf5-8dc9-4bf3-faeb-8f694746be29",
        "colab": {
          "base_uri": "https://localhost:8080/",
          "height": 139
        }
      },
      "cell_type": "code",
      "source": [
        "model=Sequential()\n",
        "model.add(Conv2D(filters=32,kernel_size=(5,5),padding='Same',activation='relu',input_shape=(28,28,1)))\n",
        "model.add(Conv2D(filters=32,kernel_size=(5,5),padding='Same',activation='relu'))\n",
        "\n",
        "model.add(MaxPool2D(pool_size=(2,2)))\n",
        "model.add(Dropout(0.25)) \n",
        "\n",
        "model.add(Flatten())\n",
        "model.add(Dense(256,activation='relu'))\n",
        "model.add(Dropout(0.5))\n",
        "model.add(Dense(10,activation='softmax'))\n",
        "          "
      ],
      "execution_count": 0,
      "outputs": [
        {
          "output_type": "stream",
          "text": [
            "WARNING:tensorflow:From /usr/local/lib/python3.6/dist-packages/tensorflow/python/framework/op_def_library.py:263: colocate_with (from tensorflow.python.framework.ops) is deprecated and will be removed in a future version.\n",
            "Instructions for updating:\n",
            "Colocations handled automatically by placer.\n",
            "WARNING:tensorflow:From /usr/local/lib/python3.6/dist-packages/keras/backend/tensorflow_backend.py:3445: calling dropout (from tensorflow.python.ops.nn_ops) with keep_prob is deprecated and will be removed in a future version.\n",
            "Instructions for updating:\n",
            "Please use `rate` instead of `keep_prob`. Rate should be set to `rate = 1 - keep_prob`.\n"
          ],
          "name": "stdout"
        }
      ]
    },
    {
      "metadata": {
        "id": "_eXjleGSH3YJ",
        "colab_type": "code",
        "colab": {}
      },
      "cell_type": "code",
      "source": [
        "optimizer=RMSprop(lr=0.001,rho=0.9,epsilon=1e-08,decay=0.0)\n",
        "model.compile(optimizer=optimizer,loss=\"categorical_crossentropy\",metrics=[\"accuracy\"])"
      ],
      "execution_count": 0,
      "outputs": []
    },
    {
      "metadata": {
        "id": "GECv63kyH-xS",
        "colab_type": "code",
        "outputId": "28b4b6c0-f584-452a-f4f3-1f94717b4a6b",
        "colab": {
          "base_uri": "https://localhost:8080/",
          "height": 102
        }
      },
      "cell_type": "code",
      "source": [
        "x=model.fit(X_train,Y_train,batch_size=10,epochs=2,validation_data=(X_val,Y_val),verbose=2)"
      ],
      "execution_count": 40,
      "outputs": [
        {
          "output_type": "stream",
          "text": [
            "Train on 37800 samples, validate on 4200 samples\n",
            "Epoch 1/2\n",
            " - 299s - loss: 0.0954 - acc: 0.9780 - val_loss: 0.1108 - val_acc: 0.9795\n",
            "Epoch 2/2\n",
            " - 301s - loss: 0.1229 - acc: 0.9738 - val_loss: 0.0800 - val_acc: 0.9802\n"
          ],
          "name": "stdout"
        }
      ]
    },
    {
      "metadata": {
        "id": "f4GcnyQ5ICnl",
        "colab_type": "code",
        "colab": {}
      },
      "cell_type": "code",
      "source": [
        "Y_pred=model.predict(X_val)\n",
        "Y_pred_classes=np.argmax(Y_pred,axis=1)\n",
        "Y_true=np.argmax(Y_val,axis=1)"
      ],
      "execution_count": 0,
      "outputs": []
    },
    {
      "metadata": {
        "id": "DQf6XMvUmsTL",
        "colab_type": "code",
        "colab": {
          "base_uri": "https://localhost:8080/",
          "height": 376
        },
        "outputId": "577858f8-0349-449d-c654-88c5ac8f69fa"
      },
      "cell_type": "code",
      "source": [
        "def display_errors(error_index,img_errors,pred_errors,obs_errors):\n",
        "  n=0\n",
        "  nrows=3\n",
        "  ncols=3\n",
        "  fig,ax= plt.subplots(nrows,ncols,sharex=True,sharey=True)\n",
        "  for row in range(nrows):\n",
        "    for col in range(ncols):\n",
        "      error=error_index[n]\n",
        "      ax[row,col].imshow(img_errors[error].reshape(28,28))\n",
        "      ax[row,col].set_title(\"Predicted Label: {} \\n True Label {}\".format(pred_errors[error],obs_errors[error]))\n",
        "      n+=1\n",
        "  \n",
        "errors=(Y_pred_classes-Y_true != 0)\n",
        "Y_pred_classes_errors=Y_pred_classes[errors]\n",
        "Y_pred_errors=Y_pred[errors]\n",
        "Y_true_errors=Y_true[errors]\n",
        "X_val_errors=X_val[errors]\n",
        "\n",
        "Y_pred_errors_prob=np.max(Y_pred_errors)\n",
        "\n",
        "true_errors_prob=np.diagonal(np.take(Y_pred_errors,Y_true_errors,axis=1))\n",
        "\n",
        "delta_pred_true_errors=Y_pred_errors_prob-true_errors_prob\n",
        "sorted_delta_errors=np.argsort(delta_pred_true_errors)\n",
        "most_important_errors=sorted_delta_errors[-9:]\n",
        "display_errors(most_important_errors,X_val_errors,Y_pred_classes_errors,Y_true_errors)"
      ],
      "execution_count": 37,
      "outputs": [
        {
          "output_type": "display_data",
          "data": {
            "image/png": "[encoded data removed]",
            "text/plain": [
              "<Figure size 576x396 with 9 Axes>"
            ]
          },
          "metadata": {
            "tags": []
          }
        }
      ]
    },
    {
      "metadata": {
        "id": "y4EquaTfykCV",
        "colab_type": "code",
        "colab": {}
      },
      "cell_type": "code",
      "source": [
        ""
      ],
      "execution_count": 0,
      "outputs": []
    }
  ]
}